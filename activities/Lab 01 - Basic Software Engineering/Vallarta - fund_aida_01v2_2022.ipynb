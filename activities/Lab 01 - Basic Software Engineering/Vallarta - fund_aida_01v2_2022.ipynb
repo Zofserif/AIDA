{
 "cells": [
  {
   "cell_type": "markdown",
   "metadata": {},
   "source": [
    "<a href=\"https://colab.research.google.com/github/dyjdlopez/AIDA/blob/main/activities/Lab%2001%20-%20Basic%20Software%20Engineering/fund_aida_01v2_2022.ipynb\" target=\"_parent\"><img src=\"https://colab.research.google.com/assets/colab-badge.svg\" alt=\"Open In Colab\"/></a>"
   ]
  },
  {
   "cell_type": "markdown",
   "metadata": {},
   "source": [
    "# Topic 01: Basic Software Engineering Concepts\n",
    "\n",
    "\n",
    "$_{\\text{©T.J. Vallarta| 2022 | Fudamentals of Artificial Intelligence and Data Analytics}}$\n",
    "\n",
    "Data Science or Machine Learning is more than math or business application. It is also important to remember that AI, ML, or DS are being integrated into industry and companies for product delivery. So it is important to keep code clean, manage your files properly, and also assure readability for your projects and their codes.\n",
    "This module is dedicated to reviewing the concepts of software engineering and integrating their concepts in Machine Learning programming. For this notebook we will be covering:\n",
    "* Modular Programming\n",
    "* Object-oriented Programming Concepts\n",
    "* Documentation\n",
    "* Version Control\t"
   ]
  },
  {
   "cell_type": "markdown",
   "metadata": {},
   "source": [
    "### Task 1: Setting the Class Grades\n",
    "1. Create variable declarations for:\n",
    "        - Last Names\n",
    "        - First Names\n",
    "        - Grades for Prelims\n",
    "        - Grades for Midterms\n",
    "        - Grades for Finals \n",
    "2. Create a DataFrame (Pandas) for consolidating the data from Task 1.1"
   ]
  },
  {
   "cell_type": "code",
   "execution_count": 2,
   "metadata": {},
   "outputs": [],
   "source": [
    "### CODE HERE ###\n",
    "import pandas as pd\n",
    "import numpy as np\n",
    "\n",
    "## Creating DataFrame"
   ]
  },
  {
   "cell_type": "markdown",
   "metadata": {},
   "source": [
    "### Task 2: Getting Class Statistics\n",
    "1. Create a function named `get_grades()` for computing the semestral grade of each student:\n",
    "\n",
    "  `inputs`: `DataFrame` of a class grade sheet.\n",
    "  \n",
    "  `outpus`: `DataFrame` showing:\n",
    "  * The prelim, midterms, and finals grades of each student\n",
    "  * The semestral grade of each student\n",
    "\n",
    "2. Create a function named `get_class_stats()`.\n",
    "  \n",
    "  `inputs`: `DataFrame` from `get_grades()`.\n",
    "  \n",
    "  `outpus`: `DataFrame` showing:\n",
    "  * The lowest and highest prelim, midterm, finals, and semestral grades\n",
    "  * the mean, median, mode, and standard deviation of the grades\n"
   ]
  },
  {
   "cell_type": "code",
   "execution_count": 2,
   "metadata": {},
   "outputs": [
    {
     "data": {
      "text/plain": [
       "Lowest Prelim Grade                  52.8\n",
       "Lowest Midterm Grade                 48.2\n",
       "Lowest Finals Grade                  65.8\n",
       "Lowest Semestral Grade               64.1\n",
       "Highest Prelim Grade                 99.6\n",
       "Highest Midterm Grade                95.6\n",
       "Highest Finals Grade                 99.9\n",
       "Highest Semestral Grade              96.8\n",
       "Mean of Grades                  83.318519\n",
       "Median of Grades                85.266667\n",
       "Mode of Grades                       64.1\n",
       "Standard Deviation of Grades    12.105487\n",
       "Name: 0, dtype: object"
      ]
     },
     "execution_count": 2,
     "metadata": {},
     "output_type": "execute_result"
    }
   ],
   "source": [
    "## Getting the sum of Prelim, Midterm, Finals Grade then average\n",
    "def get_grades(df):\n",
    "    df['Semestral Grade'] = (df.iloc[:,3:6].sum(axis=1))/3              \n",
    "    return round(df,2)\n",
    "\n",
    "## Getting the lowest and highest prelim, midterm, finals, and semestral grades\n",
    "## Getting the mean, median, mode, and standard deviation of the grades\n",
    "def get_class_stats(df):\n",
    "    get_grades(df)\n",
    "    df['Lowest Prelim Grade']= df.sort_values('Prelim Grade').iloc[0,3]\n",
    "    df['Lowest Midterm Grade']= df.sort_values('Midterm Grade').iloc[0,4]\n",
    "    df['Lowest Finals Grade']= df.sort_values('Finals Grade').iloc[0,5]\n",
    "    df['Lowest Semestral Grade']= df.sort_values('Semestral Grade').iloc[0,6]\n",
    "\n",
    "    df['Highest Prelim Grade']= df.sort_values('Prelim Grade', ascending=False).iloc[0,3]\n",
    "    df['Highest Midterm Grade']= df.sort_values('Midterm Grade', ascending=False).iloc[0,4]\n",
    "    df['Highest Finals Grade']= df.sort_values('Finals Grade', ascending=False).iloc[0,5]\n",
    "    df['Highest Semestral Grade']= df.sort_values('Semestral Grade', ascending=False).iloc[0,6]\n",
    "\n",
    "    df['Mean of Grades'] = df['Semestral Grade'].mean()                         ## Mean of Semestral Grades\n",
    "    df['Median of Grades'] = df['Semestral Grade'].median()                     ## Median of Semestral Grades\n",
    "    df['Mode of Grades'] = df['Semestral Grade'].mode()                         ## Mode of semestral of grades\n",
    "    df['Standard Deviation of Grades'] = df['Semestral Grade'].std()            ## Standard deviation of semestral grade\n",
    "\n",
    "    return df.iloc[0,7:]\n",
    "\n",
    "get_grades(cl_df1)\n",
    "get_class_stats(cl_df1)"
   ]
  },
  {
   "cell_type": "markdown",
   "metadata": {},
   "source": [
    "### Task 3: Advanced Class Functions\n",
    "1. Optimize `get_grades()` by eliminating for loops in your function.\n",
    "2. Create a function named `get_similar_students()`\n",
    "  \n",
    "  `inputs`: two (2) class `DataFrames`\n",
    "  \n",
    "  `outputs`: list of common student numbers.\n",
    "\n",
    "  *Note*: The function should not contain iterative code blocks (i.e. `for` or `while` loops, or list comprehension)"
   ]
  },
  {
   "cell_type": "code",
   "execution_count": 3,
   "metadata": {},
   "outputs": [
    {
     "data": {
      "text/plain": [
       "[201911173, 202252111]"
      ]
     },
     "execution_count": 3,
     "metadata": {},
     "output_type": "execute_result"
    }
   ],
   "source": [
    "### CODE HERE ###\n",
    "\n",
    "## Getting the sum of Prelim, Midterm, Finals Grade then average\n",
    "def get_grades(df):\n",
    "    df['Semestral Grade'] = (df.iloc[:,2:5].sum(axis=1))/3\n",
    "    return round(df,2)\n",
    "\n",
    "## Getting similar students number in two class\n",
    "def get_similar_students(cl_1,cl_2):\n",
    "    df_similar = pd.merge(cl_1,cl_2,on='Student number', how='inner')           ## Merging two dataframe and getting the Inner Join\n",
    "    return df_similar['Student number'].values.tolist()                         ## Changing DataFrame to a list type\n",
    "\n",
    "get_similar_students(cl_df1,cl_df2)"
   ]
  },
  {
   "cell_type": "markdown",
   "metadata": {},
   "source": [
    "### Task 4: Class of Classes\n",
    "1. Modify the `class` `Section` and integrate the functions from Tasks 1 to 3 as its methods. Make sure that the codes are optimized.\n",
    "2. Create a `method` named `get_failed()` wherein it will create a list of all the failed students in the class.\n",
    "3. Create a `method` named `fail_count()` wherein it will return the count of the failed students.\n",
    "\n",
    "** **Note:** due to data privacy, the data privacy office has mandated your code to refrain from printing the student number and names of students. Their student numbers and names  must be masked with asterisks."
   ]
  },
  {
   "cell_type": "code",
   "execution_count": 4,
   "metadata": {},
   "outputs": [
    {
     "data": {
      "text/plain": [
       "2"
      ]
     },
     "execution_count": 4,
     "metadata": {},
     "output_type": "execute_result"
    }
   ],
   "source": [
    "### CODE HERE ###\n",
    "class Section:\n",
    "    def __init__(self, max_pop, class_df, class_df2=0):\n",
    "        self.max_pop = max_pop\n",
    "        self.class_df = class_df\n",
    "        self.class_df2 = class_df2\n",
    "\n",
    "    ## Cloning a copy of DataFrame changing the data into asterisk\n",
    "    def masking(self, copy):\n",
    "        df_copy = copy.copy()\n",
    "        df_copy['First Names'].mask(df_copy['First Names'] == df_copy['First Names'], '******', inplace=True)\n",
    "        df_copy['Last Names'].mask(df_copy['Last Names'] == df_copy['Last Names'], '******', inplace=True)\n",
    "        df_copy['Student number'].mask(df_copy['Student number'] == df_copy['Student number'], '******', inplace=True)\n",
    "        return df_copy\n",
    "        \n",
    "    ## Count the number of students in class\n",
    "    def count_class(self):\n",
    "        return len(self.class_df)\n",
    "\n",
    "    ## Checking if students are more than the max population of class\n",
    "    def is_overloaded(self):\n",
    "        is_overload = True if self.count_class() > self.max_pop else False\n",
    "        return is_overload\n",
    "    \n",
    "    ## Getting the sum of Prelim, Midterm, Finals Grade then average\n",
    "    def get_grades(self):\n",
    "        self.class_df['Semestral Grade'] = round((self.class_df.iloc[:,3:6].sum(axis=1))/3)\n",
    "        return self.masking(self.class_df)\n",
    "    \n",
    "    ## Getting the lowest and highest prelim, midterm, finals, and semestral grades\n",
    "    ## Getting the mean, median, mode, and standard deviation of the grades\n",
    "    def get_class_stats(self):\n",
    "        get_grades()\n",
    "        self.class_df['Lowest Prelim Grade']= self.class_df.sort_values('Prelim Grade').iloc[0,3]\n",
    "        self.class_df['Lowest Midterm Grade']= self.class_df.sort_values('Midterm Grade').iloc[0,4]\n",
    "        self.class_df['Lowest Finals Grade']= self.class_df.sort_values('Finals Grade').iloc[0,5]\n",
    "        self.class_df['Lowest Semestral Grade']= self.class_df.sort_values('Semestral Grade').iloc[0,6]\n",
    "\n",
    "        self.class_df['Highest Prelim Grade']= self.class_df.sort_values('Prelim Grade', ascending=False).iloc[0,3]\n",
    "        self.class_df['Highest Midterm Grade']= self.class_df.sort_values('Midterm Grade', ascending=False).iloc[0,4]\n",
    "        self.class_df['Highest Finals Grade']= self.class_df.sort_values('Finals Grade', ascending=False).iloc[0,5]\n",
    "        self.class_df['Highest Semestral Grade']= self.class_df.sort_values('Semestral Grade', ascending=False).iloc[0,6]\n",
    "\n",
    "        self.class_df['Mean of Grades'] = self.class_df['Semestral Grade'].mean()                           ## Mean of Semestral Grades\n",
    "        self.class_df['Median of Grades'] = self.class_df['Semestral Grade'].median()                       ## Median of Semestral Grades\n",
    "        self.class_df['Mode of Grades'] = self.class_df['Semestral Grade'].mode()                           ## Mode of semestral of grades\n",
    "        self.class_df['Standard Deviation of Grades'] = self.class_df['Semestral Grade'].std()              ## Standard deviation of semestral grade\n",
    "\n",
    "        return self.class_df.iloc[0,7:]\n",
    "    \n",
    "    ## Getting similar students number in two class\n",
    "    def get_similar_students(self):\n",
    "        df_similar = pd.merge(self.class_df, self.class_df2,on='Student number', how='inner')       ## Merging two dataframe and getting the Inner Join\n",
    "        return df_similar['Student number'].values.tolist()                                         ## Changing DataFrame to a list type\n",
    "    \n",
    "    ## Getting the failed students (Private class due to data privacy)\n",
    "    def __get_failed(self):\n",
    "        self.get_grades()\n",
    "        filter_failed = self.class_df.loc[self.class_df['Semestral Grade'] <= 69.9]\n",
    "        return (filter_failed['First Names'] +' '+ filter_failed['Last Names']).values.tolist()\n",
    "\n",
    "    ## Getting the number of failed students\n",
    "    def fail_count(self):\n",
    "        return len(self.__get_failed())\n",
    "\n",
    "\n",
    "\n",
    "section = Section(5, cl_df1)\n",
    "section.fail_count()\n",
    "section.get_grades()"
   ]
  },
  {
   "cell_type": "markdown",
   "metadata": {},
   "source": [
    "\n",
    "---\n",
    "**END OF LABORATORY**\n",
    "\n",
    "---"
   ]
  }
 ],
 "metadata": {
  "interpreter": {
   "hash": "b3ba2566441a7c06988d0923437866b63cedc61552a5af99d1f4fb67d367b25f"
  },
  "kernelspec": {
   "display_name": "Python 3.9.7 64-bit ('base': conda)",
   "language": "python",
   "name": "python3"
  },
  "language_info": {
   "codemirror_mode": {
    "name": "ipython",
    "version": 3
   },
   "file_extension": ".py",
   "mimetype": "text/x-python",
   "name": "python",
   "nbconvert_exporter": "python",
   "pygments_lexer": "ipython3",
   "version": "3.9.7"
  },
  "orig_nbformat": 4
 },
 "nbformat": 4,
 "nbformat_minor": 2
}
